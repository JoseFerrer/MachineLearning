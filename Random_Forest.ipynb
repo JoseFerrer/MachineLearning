{
  "nbformat": 4,
  "nbformat_minor": 0,
  "metadata": {
    "colab": {
      "name": "Random Forest.ipynb",
      "provenance": []
    },
    "kernelspec": {
      "name": "python3",
      "display_name": "Python 3"
    },
    "language_info": {
      "name": "python"
    }
  },
  "cells": [
    {
      "cell_type": "markdown",
      "metadata": {
        "id": "c_2fwLyg6nat"
      },
      "source": [
        "# **Random Forest**\n"
      ]
    },
    {
      "cell_type": "markdown",
      "metadata": {
        "id": "iO1fIcYNunjm"
      },
      "source": [
        "**Random Forest** es un algoritmo de Machine Learning que se basa en un conjunto de Árboles de Decision para definir una tarea de Clasificación o Regresión.\n",
        "\n",
        "<img src=\"https://cdn.analyticsvidhya.com/wp-content/uploads/2020/02/rfc_vs_dt1.png\" width=\"80%\">\n",
        "\n",
        "Source: https://www.analyticsvidhya.com/blog/2020/05/decision-tree-vs-random-forest-algorithm/\n"
      ]
    },
    {
      "cell_type": "markdown",
      "metadata": {
        "id": "kL5fWwjjvnmu"
      },
      "source": [
        "\n",
        "\n",
        "---\n",
        "\n"
      ]
    },
    {
      "cell_type": "markdown",
      "metadata": {
        "id": "Q3Q7W1DFwrSz"
      },
      "source": [
        "<img src=\"https://miro.medium.com/max/1000/1*aLxkYI8694Ysy6k7WvHbGg.png\" width=\"80%\">\n",
        "\n",
        "Source: https://laptrinhx.com/between-classification-and-regression-how-to-know-which-is-which-1045807665/"
      ]
    },
    {
      "cell_type": "markdown",
      "metadata": {
        "id": "_P4idvFOwwNq"
      },
      "source": [
        "\n",
        "\n",
        "---\n",
        "\n"
      ]
    },
    {
      "cell_type": "markdown",
      "metadata": {
        "id": "VY3xV6FXunxg"
      },
      "source": [
        "Para este algoritmo, vamos a utilizar los siguientes packages:\n",
        "\n",
        "<img src=\"https://upload.wikimedia.org/wikipedia/commons/thumb/0/05/Scikit_learn_logo_small.svg/1200px-Scikit_learn_logo_small.svg.png\" width=\"50%\">\n",
        "\n",
        "<img src=\"https://techscript24.com/wp-content/uploads/2020/10/86498201-a8bd8680-bd39-11ea-9d08-66b610a8dc01.png\" width=\"50%\">\n",
        "\n",
        "<img src=\"https://www.adictosaltrabajo.com/wp-content/uploads/2020/12/1200px-Pandas_logo.svg_.png\" width=\"50%\">"
      ]
    },
    {
      "cell_type": "markdown",
      "metadata": {
        "id": "TJeDI5KI1Q8L"
      },
      "source": [
        "\n",
        "\n",
        "---\n",
        "\n"
      ]
    },
    {
      "cell_type": "markdown",
      "metadata": {
        "id": "JnMzLkS6_0ZD"
      },
      "source": [
        "## **Importamos los paquetes que necesitamos para realizar el algoritmo**"
      ]
    },
    {
      "cell_type": "code",
      "metadata": {
        "id": "p_HfIzXd5kwE"
      },
      "source": [
        "import numpy as np\n",
        "import pandas as pd\n",
        "from sklearn.ensemble import RandomForestClassifier\n",
        "from sklearn.model_selection import train_test_split"
      ],
      "execution_count": null,
      "outputs": []
    },
    {
      "cell_type": "markdown",
      "metadata": {
        "id": "Itr6nMYh_91-"
      },
      "source": [
        "## **Importamos la data**"
      ]
    },
    {
      "cell_type": "markdown",
      "metadata": {
        "id": "gGF-F4ShAlmk"
      },
      "source": [
        "Esta data es libre y pertenece a una institución francesa llamada stat4decision. También inspeccionaremos el tipo de data que tenemos y el tamaño de la tabla.\n",
        "\n",
        "Este dataset nos da información sobre algunas características propias de dos tipos de vinos:\n",
        "\n",
        "* Vino Blanco\n",
        "* Vino Tinto"
      ]
    },
    {
      "cell_type": "code",
      "metadata": {
        "id": "FwZPteWY5rO5",
        "colab": {
          "base_uri": "https://localhost:8080/"
        },
        "outputId": "9b7080f2-5799-42ee-9d83-54d6ab9097f0"
      },
      "source": [
        "data = pd.read_csv(\"https://www.stat4decision.com/wine_data.csv\", index_col = 0)\n",
        "data[\"type\"].value_counts()"
      ],
      "execution_count": null,
      "outputs": [
        {
          "output_type": "execute_result",
          "data": {
            "text/plain": [
              "0    4898\n",
              "1    1599\n",
              "Name: type, dtype: int64"
            ]
          },
          "metadata": {
            "tags": []
          },
          "execution_count": 16
        }
      ]
    },
    {
      "cell_type": "markdown",
      "metadata": {
        "id": "YU0TrbcYzVnd"
      },
      "source": [
        "Vemos que tenemos 4898 vinos blancos y 1599 vinos tintos."
      ]
    },
    {
      "cell_type": "code",
      "metadata": {
        "id": "5H9fp5gVyUix",
        "colab": {
          "base_uri": "https://localhost:8080/",
          "height": 419
        },
        "outputId": "dda1d464-2b2f-4aaf-d506-b330578a4dd0"
      },
      "source": [
        "data"
      ],
      "execution_count": null,
      "outputs": [
        {
          "output_type": "execute_result",
          "data": {
            "text/html": [
              "<div>\n",
              "<style scoped>\n",
              "    .dataframe tbody tr th:only-of-type {\n",
              "        vertical-align: middle;\n",
              "    }\n",
              "\n",
              "    .dataframe tbody tr th {\n",
              "        vertical-align: top;\n",
              "    }\n",
              "\n",
              "    .dataframe thead th {\n",
              "        text-align: right;\n",
              "    }\n",
              "</style>\n",
              "<table border=\"1\" class=\"dataframe\">\n",
              "  <thead>\n",
              "    <tr style=\"text-align: right;\">\n",
              "      <th></th>\n",
              "      <th>fixed acidity</th>\n",
              "      <th>volatile acidity</th>\n",
              "      <th>citric acid</th>\n",
              "      <th>residual sugar</th>\n",
              "      <th>chlorides</th>\n",
              "      <th>free sulfur dioxide</th>\n",
              "      <th>total sulfur dioxide</th>\n",
              "      <th>density</th>\n",
              "      <th>pH</th>\n",
              "      <th>sulphates</th>\n",
              "      <th>alcohol</th>\n",
              "      <th>quality</th>\n",
              "      <th>type</th>\n",
              "    </tr>\n",
              "  </thead>\n",
              "  <tbody>\n",
              "    <tr>\n",
              "      <th>0</th>\n",
              "      <td>7.0</td>\n",
              "      <td>0.270</td>\n",
              "      <td>0.36</td>\n",
              "      <td>20.7</td>\n",
              "      <td>0.045</td>\n",
              "      <td>45.0</td>\n",
              "      <td>170.0</td>\n",
              "      <td>1.00100</td>\n",
              "      <td>3.00</td>\n",
              "      <td>0.45</td>\n",
              "      <td>8.8</td>\n",
              "      <td>6</td>\n",
              "      <td>0</td>\n",
              "    </tr>\n",
              "    <tr>\n",
              "      <th>1</th>\n",
              "      <td>6.3</td>\n",
              "      <td>0.300</td>\n",
              "      <td>0.34</td>\n",
              "      <td>1.6</td>\n",
              "      <td>0.049</td>\n",
              "      <td>14.0</td>\n",
              "      <td>132.0</td>\n",
              "      <td>0.99400</td>\n",
              "      <td>3.30</td>\n",
              "      <td>0.49</td>\n",
              "      <td>9.5</td>\n",
              "      <td>6</td>\n",
              "      <td>0</td>\n",
              "    </tr>\n",
              "    <tr>\n",
              "      <th>2</th>\n",
              "      <td>8.1</td>\n",
              "      <td>0.280</td>\n",
              "      <td>0.40</td>\n",
              "      <td>6.9</td>\n",
              "      <td>0.050</td>\n",
              "      <td>30.0</td>\n",
              "      <td>97.0</td>\n",
              "      <td>0.99510</td>\n",
              "      <td>3.26</td>\n",
              "      <td>0.44</td>\n",
              "      <td>10.1</td>\n",
              "      <td>6</td>\n",
              "      <td>0</td>\n",
              "    </tr>\n",
              "    <tr>\n",
              "      <th>3</th>\n",
              "      <td>7.2</td>\n",
              "      <td>0.230</td>\n",
              "      <td>0.32</td>\n",
              "      <td>8.5</td>\n",
              "      <td>0.058</td>\n",
              "      <td>47.0</td>\n",
              "      <td>186.0</td>\n",
              "      <td>0.99560</td>\n",
              "      <td>3.19</td>\n",
              "      <td>0.40</td>\n",
              "      <td>9.9</td>\n",
              "      <td>6</td>\n",
              "      <td>0</td>\n",
              "    </tr>\n",
              "    <tr>\n",
              "      <th>4</th>\n",
              "      <td>7.2</td>\n",
              "      <td>0.230</td>\n",
              "      <td>0.32</td>\n",
              "      <td>8.5</td>\n",
              "      <td>0.058</td>\n",
              "      <td>47.0</td>\n",
              "      <td>186.0</td>\n",
              "      <td>0.99560</td>\n",
              "      <td>3.19</td>\n",
              "      <td>0.40</td>\n",
              "      <td>9.9</td>\n",
              "      <td>6</td>\n",
              "      <td>0</td>\n",
              "    </tr>\n",
              "    <tr>\n",
              "      <th>...</th>\n",
              "      <td>...</td>\n",
              "      <td>...</td>\n",
              "      <td>...</td>\n",
              "      <td>...</td>\n",
              "      <td>...</td>\n",
              "      <td>...</td>\n",
              "      <td>...</td>\n",
              "      <td>...</td>\n",
              "      <td>...</td>\n",
              "      <td>...</td>\n",
              "      <td>...</td>\n",
              "      <td>...</td>\n",
              "      <td>...</td>\n",
              "    </tr>\n",
              "    <tr>\n",
              "      <th>1594</th>\n",
              "      <td>6.2</td>\n",
              "      <td>0.600</td>\n",
              "      <td>0.08</td>\n",
              "      <td>2.0</td>\n",
              "      <td>0.090</td>\n",
              "      <td>32.0</td>\n",
              "      <td>44.0</td>\n",
              "      <td>0.99490</td>\n",
              "      <td>3.45</td>\n",
              "      <td>0.58</td>\n",
              "      <td>10.5</td>\n",
              "      <td>5</td>\n",
              "      <td>1</td>\n",
              "    </tr>\n",
              "    <tr>\n",
              "      <th>1595</th>\n",
              "      <td>5.9</td>\n",
              "      <td>0.550</td>\n",
              "      <td>0.10</td>\n",
              "      <td>2.2</td>\n",
              "      <td>0.062</td>\n",
              "      <td>39.0</td>\n",
              "      <td>51.0</td>\n",
              "      <td>0.99512</td>\n",
              "      <td>3.52</td>\n",
              "      <td>0.76</td>\n",
              "      <td>11.2</td>\n",
              "      <td>6</td>\n",
              "      <td>1</td>\n",
              "    </tr>\n",
              "    <tr>\n",
              "      <th>1596</th>\n",
              "      <td>6.3</td>\n",
              "      <td>0.510</td>\n",
              "      <td>0.13</td>\n",
              "      <td>2.3</td>\n",
              "      <td>0.076</td>\n",
              "      <td>29.0</td>\n",
              "      <td>40.0</td>\n",
              "      <td>0.99574</td>\n",
              "      <td>3.42</td>\n",
              "      <td>0.75</td>\n",
              "      <td>11.0</td>\n",
              "      <td>6</td>\n",
              "      <td>1</td>\n",
              "    </tr>\n",
              "    <tr>\n",
              "      <th>1597</th>\n",
              "      <td>5.9</td>\n",
              "      <td>0.645</td>\n",
              "      <td>0.12</td>\n",
              "      <td>2.0</td>\n",
              "      <td>0.075</td>\n",
              "      <td>32.0</td>\n",
              "      <td>44.0</td>\n",
              "      <td>0.99547</td>\n",
              "      <td>3.57</td>\n",
              "      <td>0.71</td>\n",
              "      <td>10.2</td>\n",
              "      <td>5</td>\n",
              "      <td>1</td>\n",
              "    </tr>\n",
              "    <tr>\n",
              "      <th>1598</th>\n",
              "      <td>6.0</td>\n",
              "      <td>0.310</td>\n",
              "      <td>0.47</td>\n",
              "      <td>3.6</td>\n",
              "      <td>0.067</td>\n",
              "      <td>18.0</td>\n",
              "      <td>42.0</td>\n",
              "      <td>0.99549</td>\n",
              "      <td>3.39</td>\n",
              "      <td>0.66</td>\n",
              "      <td>11.0</td>\n",
              "      <td>6</td>\n",
              "      <td>1</td>\n",
              "    </tr>\n",
              "  </tbody>\n",
              "</table>\n",
              "<p>6497 rows × 13 columns</p>\n",
              "</div>"
            ],
            "text/plain": [
              "      fixed acidity  volatile acidity  citric acid  ...  alcohol  quality  type\n",
              "0               7.0             0.270         0.36  ...      8.8        6     0\n",
              "1               6.3             0.300         0.34  ...      9.5        6     0\n",
              "2               8.1             0.280         0.40  ...     10.1        6     0\n",
              "3               7.2             0.230         0.32  ...      9.9        6     0\n",
              "4               7.2             0.230         0.32  ...      9.9        6     0\n",
              "...             ...               ...          ...  ...      ...      ...   ...\n",
              "1594            6.2             0.600         0.08  ...     10.5        5     1\n",
              "1595            5.9             0.550         0.10  ...     11.2        6     1\n",
              "1596            6.3             0.510         0.13  ...     11.0        6     1\n",
              "1597            5.9             0.645         0.12  ...     10.2        5     1\n",
              "1598            6.0             0.310         0.47  ...     11.0        6     1\n",
              "\n",
              "[6497 rows x 13 columns]"
            ]
          },
          "metadata": {
            "tags": []
          },
          "execution_count": 17
        }
      ]
    },
    {
      "cell_type": "markdown",
      "metadata": {
        "id": "29pjztJ406FG"
      },
      "source": [
        "## **Analicemos el Dataset**"
      ]
    },
    {
      "cell_type": "markdown",
      "metadata": {
        "id": "JcazD26-uXxZ"
      },
      "source": [
        "Ahora inspeccionemos nuestro dataset. Respondamos a las siguientes preguntas: \n",
        "\n",
        "* ¿ Qué hay dentro de nuestro Dataset ?\n",
        "* ¿ Existen inconsistencias ?\n",
        "* ¿ De que tipo son los datos que analizaremos ?"
      ]
    },
    {
      "cell_type": "code",
      "metadata": {
        "id": "Pe4erx0g5wve",
        "colab": {
          "base_uri": "https://localhost:8080/"
        },
        "outputId": "64b1773f-ec6c-435c-e317-6cba0e8eb9f3"
      },
      "source": [
        "data.info()"
      ],
      "execution_count": null,
      "outputs": [
        {
          "output_type": "stream",
          "text": [
            "<class 'pandas.core.frame.DataFrame'>\n",
            "Int64Index: 6497 entries, 0 to 1598\n",
            "Data columns (total 13 columns):\n",
            " #   Column                Non-Null Count  Dtype  \n",
            "---  ------                --------------  -----  \n",
            " 0   fixed acidity         6497 non-null   float64\n",
            " 1   volatile acidity      6497 non-null   float64\n",
            " 2   citric acid           6497 non-null   float64\n",
            " 3   residual sugar        6497 non-null   float64\n",
            " 4   chlorides             6497 non-null   float64\n",
            " 5   free sulfur dioxide   6497 non-null   float64\n",
            " 6   total sulfur dioxide  6497 non-null   float64\n",
            " 7   density               6497 non-null   float64\n",
            " 8   pH                    6497 non-null   float64\n",
            " 9   sulphates             6497 non-null   float64\n",
            " 10  alcohol               6497 non-null   float64\n",
            " 11  quality               6497 non-null   int64  \n",
            " 12  type                  6497 non-null   int64  \n",
            "dtypes: float64(11), int64(2)\n",
            "memory usage: 710.6 KB\n"
          ],
          "name": "stdout"
        }
      ]
    },
    {
      "cell_type": "markdown",
      "metadata": {
        "id": "e3kKiM5x0V9K"
      },
      "source": [
        "Vemos que nuestro dataset es limpio ya que no posee valores nulos y tenemos 12 variables descriptivas que nos permitirán desarrollar nuestro modelo."
      ]
    },
    {
      "cell_type": "markdown",
      "metadata": {
        "id": "22h-zKd-1CAB"
      },
      "source": [
        "## **Training/Test: Separación del Dataset**"
      ]
    },
    {
      "cell_type": "markdown",
      "metadata": {
        "id": "Q0Mb2Dz3CJNS"
      },
      "source": [
        "<img src=\"https://upload.wikimedia.org/wikipedia/commons/b/bb/ML_dataset_training_validation_test_sets.png\" width=\"100%\">"
      ]
    },
    {
      "cell_type": "code",
      "metadata": {
        "id": "SC7nOp2I51H2"
      },
      "source": [
        "y = data[\"type\"]\n",
        "x = data.drop(\"type\", axis = 1)\n",
        "x_train, x_test, y_train, y_test  = train_test_split(x, \n",
        "                                                     y, \n",
        "                                                     test_size=0.25, \n",
        "                                                     random_state=42)"
      ],
      "execution_count": null,
      "outputs": []
    },
    {
      "cell_type": "code",
      "metadata": {
        "id": "F7ZBTysW1gA2",
        "colab": {
          "base_uri": "https://localhost:8080/"
        },
        "outputId": "35bdab00-5da9-4e1b-9085-fe3abdd71115"
      },
      "source": [
        "x_train.shape, x_test.shape"
      ],
      "execution_count": null,
      "outputs": [
        {
          "output_type": "execute_result",
          "data": {
            "text/plain": [
              "((4872, 12), (1625, 12))"
            ]
          },
          "metadata": {
            "tags": []
          },
          "execution_count": 20
        }
      ]
    },
    {
      "cell_type": "markdown",
      "metadata": {
        "id": "-KV0Tmsk2MpP"
      },
      "source": [
        "## **Training del Random Forest**"
      ]
    },
    {
      "cell_type": "markdown",
      "metadata": {
        "id": "z2Gm74d52YRl"
      },
      "source": [
        "![DT.png](data:image/png;base64,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)\n",
        "\n",
        "\n",
        "Source: https://scikit-learn.org/stable/modules/generated/sklearn.tree.DecisionTreeClassifier.html"
      ]
    },
    {
      "cell_type": "markdown",
      "metadata": {
        "id": "v3hl6q_f3fZC"
      },
      "source": [
        "![RF.png](data:image/png;base64,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)\n",
        "\n",
        "Source: https://scikit-learn.org/stable/modules/generated/sklearn.ensemble.RandomForestClassifier.html"
      ]
    },
    {
      "cell_type": "markdown",
      "metadata": {
        "id": "V-7uDjP038Ur"
      },
      "source": [
        "Vamos a usar scikit-learn para construir nuestro Random Forest, así que usamos la clase RandomForestClassifier de scikit-learn y creamos un objeto a partir de esa clase. Aquí es cuando definiremos lo que llamamos hiperparámetros del modelo. Estos son parámetros como la cantidad de árboles en el bosque que deben definirse antes de aprender.\n",
        "\n",
        "Algunos hiperparámetros que podemos modificar son:\n",
        "\n",
        "* n_estimators: este es el número de árboles en el bosque\n",
        "* criterion: este es el criterio utilizado para construir árboles y separar ramas de árboles.\n",
        "* max_depth: esta es la profundidad máxima de los árboles utilizados (el número de niveles en el árbol de decisión)\n",
        "* min_sample_split: este es el número mínimo de muestras en una hoja para rehacer una separación\n",
        "* min_samples_leaf: este es el número mínimo de muestras para crear una hoja\n",
        "* min_weight_fraction_leaf: esta es la fracción del número total de muestras mínimas para crear una hoja\n",
        "* max_features: este es el número de columnas seleccionadas para cada árbol (por defecto tomamos la raíz cuadrada del número de columnas)\n",
        "* max_leaf_nodes: este es el número máximo de hojas\n",
        "* min_impurity_decrease: esta es la disminución mínima en el criterio de impureza para hacer una separación\n",
        "* bootstrap: parámetro para usar bootstrap, si es False, se toma la misma muestra para cada árbol\n",
        "* n_jobs; número de tratamientos a realizar en paralelo\n",
        "* random_state: semilla aleatoria\n",
        "* warm_start: esto le permite partir del resultado del último aprendizaje para hacer el aprendizaje\n",
        "* class_weights: estos son los pesos asociados con cada clase si tiene sentido\n",
        "* max_samples: si desea reducir el número de observaciones en sus muestras de arranque"
      ]
    },
    {
      "cell_type": "code",
      "metadata": {
        "id": "JF0hlqbf51zM"
      },
      "source": [
        "modele_rf = RandomForestClassifier(\n",
        "     n_estimators=100,\n",
        "     criterion='gini',\n",
        "     max_depth=None,\n",
        "     min_samples_split=2,\n",
        "     min_samples_leaf=1,\n",
        "     min_weight_fraction_leaf=0.0,\n",
        "     max_features='auto',\n",
        "     max_leaf_nodes=None,\n",
        "     min_impurity_decrease=0.0,\n",
        "     bootstrap=True,\n",
        "     oob_score=False,\n",
        "     n_jobs=None,\n",
        "     random_state=None,\n",
        "     verbose=0,\n",
        "     warm_start=False,\n",
        "     class_weight=None,\n",
        "     ccp_alpha=0.0,\n",
        "     max_samples=None,)"
      ],
      "execution_count": null,
      "outputs": []
    },
    {
      "cell_type": "markdown",
      "metadata": {
        "id": "mkKpa5FI6Gkk"
      },
      "source": [
        "Una vez definido los hiperparámetros y construido nuestro objeto Random Forest, procedemos a realizar el aprendizaje."
      ]
    },
    {
      "cell_type": "code",
      "metadata": {
        "id": "V9MdKs_o54zq",
        "colab": {
          "base_uri": "https://localhost:8080/"
        },
        "outputId": "69742a06-0017-48f5-a79e-ffde594e1bec"
      },
      "source": [
        "modele_rf.fit(x_train, y_train)"
      ],
      "execution_count": null,
      "outputs": [
        {
          "output_type": "execute_result",
          "data": {
            "text/plain": [
              "RandomForestClassifier(bootstrap=True, ccp_alpha=0.0, class_weight=None,\n",
              "                       criterion='gini', max_depth=None, max_features='auto',\n",
              "                       max_leaf_nodes=None, max_samples=None,\n",
              "                       min_impurity_decrease=0.0, min_impurity_split=None,\n",
              "                       min_samples_leaf=1, min_samples_split=2,\n",
              "                       min_weight_fraction_leaf=0.0, n_estimators=100,\n",
              "                       n_jobs=None, oob_score=False, random_state=None,\n",
              "                       verbose=0, warm_start=False)"
            ]
          },
          "metadata": {
            "tags": []
          },
          "execution_count": 22
        }
      ]
    },
    {
      "cell_type": "markdown",
      "metadata": {
        "id": "PvLCskPU6kai"
      },
      "source": [
        "### **Atención:**\n",
        "\n",
        "Algo interesante de Random Forest, en comparación con las redes neuronales, es que no es una caja negra y podemos revisar la importancia de las variables en nuestro modelo."
      ]
    },
    {
      "cell_type": "code",
      "metadata": {
        "id": "rx0Od9HI59m2",
        "colab": {
          "base_uri": "https://localhost:8080/",
          "height": 421
        },
        "outputId": "fd5da554-a848-40be-e60e-e90249fc4a0e"
      },
      "source": [
        "pd.DataFrame(modele_rf.feature_importances_,\n",
        "              index = x_train.columns, \n",
        "              columns = [\"importance\"]).sort_values(\n",
        "     \"importance\", \n",
        "     ascending = False)"
      ],
      "execution_count": null,
      "outputs": [
        {
          "output_type": "execute_result",
          "data": {
            "text/html": [
              "<div>\n",
              "<style scoped>\n",
              "    .dataframe tbody tr th:only-of-type {\n",
              "        vertical-align: middle;\n",
              "    }\n",
              "\n",
              "    .dataframe tbody tr th {\n",
              "        vertical-align: top;\n",
              "    }\n",
              "\n",
              "    .dataframe thead th {\n",
              "        text-align: right;\n",
              "    }\n",
              "</style>\n",
              "<table border=\"1\" class=\"dataframe\">\n",
              "  <thead>\n",
              "    <tr style=\"text-align: right;\">\n",
              "      <th></th>\n",
              "      <th>importance</th>\n",
              "    </tr>\n",
              "  </thead>\n",
              "  <tbody>\n",
              "    <tr>\n",
              "      <th>total sulfur dioxide</th>\n",
              "      <td>0.308508</td>\n",
              "    </tr>\n",
              "    <tr>\n",
              "      <th>chlorides</th>\n",
              "      <td>0.273342</td>\n",
              "    </tr>\n",
              "    <tr>\n",
              "      <th>volatile acidity</th>\n",
              "      <td>0.094742</td>\n",
              "    </tr>\n",
              "    <tr>\n",
              "      <th>density</th>\n",
              "      <td>0.073605</td>\n",
              "    </tr>\n",
              "    <tr>\n",
              "      <th>sulphates</th>\n",
              "      <td>0.062247</td>\n",
              "    </tr>\n",
              "    <tr>\n",
              "      <th>free sulfur dioxide</th>\n",
              "      <td>0.058238</td>\n",
              "    </tr>\n",
              "    <tr>\n",
              "      <th>residual sugar</th>\n",
              "      <td>0.050653</td>\n",
              "    </tr>\n",
              "    <tr>\n",
              "      <th>fixed acidity</th>\n",
              "      <td>0.036445</td>\n",
              "    </tr>\n",
              "    <tr>\n",
              "      <th>pH</th>\n",
              "      <td>0.020247</td>\n",
              "    </tr>\n",
              "    <tr>\n",
              "      <th>citric acid</th>\n",
              "      <td>0.010920</td>\n",
              "    </tr>\n",
              "    <tr>\n",
              "      <th>alcohol</th>\n",
              "      <td>0.008579</td>\n",
              "    </tr>\n",
              "    <tr>\n",
              "      <th>quality</th>\n",
              "      <td>0.002473</td>\n",
              "    </tr>\n",
              "  </tbody>\n",
              "</table>\n",
              "</div>"
            ],
            "text/plain": [
              "                      importance\n",
              "total sulfur dioxide    0.308508\n",
              "chlorides               0.273342\n",
              "volatile acidity        0.094742\n",
              "density                 0.073605\n",
              "sulphates               0.062247\n",
              "free sulfur dioxide     0.058238\n",
              "residual sugar          0.050653\n",
              "fixed acidity           0.036445\n",
              "pH                      0.020247\n",
              "citric acid             0.010920\n",
              "alcohol                 0.008579\n",
              "quality                 0.002473"
            ]
          },
          "metadata": {
            "tags": []
          },
          "execution_count": 23
        }
      ]
    },
    {
      "cell_type": "markdown",
      "metadata": {
        "id": "KMB1KzrL7TYW"
      },
      "source": [
        "## **Validación del Modelo**"
      ]
    },
    {
      "cell_type": "markdown",
      "metadata": {
        "id": "JvniICpI8Hvb"
      },
      "source": [
        "Ahora que nuestro modelo ha entrenado debe ser validado. Para ello, utilizaremos datos de prueba definidos en la etapa de training/test.\n",
        "\n",
        "Compararemos el valor predicho por el modelo con el valor de los datos. El punto aquí es comparar el color del vino predicho por el modelo y el observado en nuestra muestra de prueba.\n",
        "\n",
        "El primer indicador utilizado es el porcentaje de bien clasificados también llamado precisión:"
      ]
    },
    {
      "cell_type": "code",
      "metadata": {
        "id": "1q6lTxrI6B3I",
        "colab": {
          "base_uri": "https://localhost:8080/"
        },
        "outputId": "50e45c7a-a05b-4d0d-cb39-3da57c492fe7"
      },
      "source": [
        "from sklearn.metrics import accuracy_score, confusion_matrix\n",
        "print(f\"El accuracy de nuestro modelo es de : {accuracy_score(y_test, modele_rf.predict(x_test))*100} %\")"
      ],
      "execution_count": null,
      "outputs": [
        {
          "output_type": "stream",
          "text": [
            "El accuracy de nuestro modelo es de : 99.63076923076923 %\n"
          ],
          "name": "stdout"
        }
      ]
    },
    {
      "cell_type": "markdown",
      "metadata": {
        "id": "gij0x2GI-DAa"
      },
      "source": [
        "Vemos que aquí tenemos un 99,63% de vinos bien clasificados, lo que refleja el potencial categórico de nuestro modelo.\n",
        "\n",
        "Para tener un análisis más detallado de los resultados, podemos utilizar la matriz de confusión. Esto brinda más detalles sobre los vinos que están mal clasificados:"
      ]
    },
    {
      "cell_type": "code",
      "metadata": {
        "id": "DGoqpIrO6G8a",
        "colab": {
          "base_uri": "https://localhost:8080/",
          "height": 111
        },
        "outputId": "82c02a54-da77-4be8-9a05-a04e470c29b5"
      },
      "source": [
        "pd.DataFrame(confusion_matrix(y_test, modele_rf.predict(x_test)),\n",
        "             index = [\"datos_vblanco\", \"datos_vtinto\"],\n",
        "             columns = [\"pred_vblanco\", \"pred_vtinto\"])"
      ],
      "execution_count": null,
      "outputs": [
        {
          "output_type": "execute_result",
          "data": {
            "text/html": [
              "<div>\n",
              "<style scoped>\n",
              "    .dataframe tbody tr th:only-of-type {\n",
              "        vertical-align: middle;\n",
              "    }\n",
              "\n",
              "    .dataframe tbody tr th {\n",
              "        vertical-align: top;\n",
              "    }\n",
              "\n",
              "    .dataframe thead th {\n",
              "        text-align: right;\n",
              "    }\n",
              "</style>\n",
              "<table border=\"1\" class=\"dataframe\">\n",
              "  <thead>\n",
              "    <tr style=\"text-align: right;\">\n",
              "      <th></th>\n",
              "      <th>pred_vblanco</th>\n",
              "      <th>pred_vtinto</th>\n",
              "    </tr>\n",
              "  </thead>\n",
              "  <tbody>\n",
              "    <tr>\n",
              "      <th>datos_vblanco</th>\n",
              "      <td>1239</td>\n",
              "      <td>0</td>\n",
              "    </tr>\n",
              "    <tr>\n",
              "      <th>datos_vtinto</th>\n",
              "      <td>6</td>\n",
              "      <td>380</td>\n",
              "    </tr>\n",
              "  </tbody>\n",
              "</table>\n",
              "</div>"
            ],
            "text/plain": [
              "               pred_vblanco  pred_vtinto\n",
              "datos_vblanco          1239            0\n",
              "datos_vtinto              6          380"
            ]
          },
          "metadata": {
            "tags": []
          },
          "execution_count": 25
        }
      ]
    }
  ]
}